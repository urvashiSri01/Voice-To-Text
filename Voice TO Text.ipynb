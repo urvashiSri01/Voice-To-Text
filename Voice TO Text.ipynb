{
 "cells": [
  {
   "cell_type": "markdown",
   "id": "5912a8c5",
   "metadata": {},
   "source": [
    "Voice To Text"
   ]
  },
  {
   "cell_type": "code",
   "execution_count": 1,
   "id": "ad317449",
   "metadata": {},
   "outputs": [],
   "source": [
    "#Import Library\n",
    "#!pip install pipwin\n",
    "#pip install googletrans==4.0.0-rc1\n",
    "#pip install textblob\n",
    "#pip install gtts\n",
    "\n"
   ]
  },
  {
   "cell_type": "code",
   "execution_count": 2,
   "id": "b994f19a",
   "metadata": {},
   "outputs": [],
   "source": [
    "import speech_recognition as sr\n",
    "from googletrans import Translator\n",
    "import googletrans\n",
    "from textblob import TextBlob\n",
    "from gtts import gTTS\n",
    "import os\n",
    "import playsound"
   ]
  },
  {
   "cell_type": "code",
   "execution_count": 3,
   "id": "a6f5222c",
   "metadata": {},
   "outputs": [],
   "source": [
    "#for index, name in enumerate(sr.Microphone.list_microphone_names()):\n",
    "    #print(\"Microphone with name \\\"{1}\\\" found for `Microphone(device_index={0})`\".format(index, name))"
   ]
  },
  {
   "cell_type": "code",
   "execution_count": 8,
   "id": "66a7a9aa",
   "metadata": {},
   "outputs": [
    {
     "name": "stdout",
     "output_type": "stream",
     "text": [
      "Please start to talk. \n",
      "Text: it is a bad day for me\n",
      "Time is up! Thanks\n"
     ]
    }
   ],
   "source": [
    "#Intial recognizer class for recognizing the speech\n",
    "r= sr.Recognizer()\n",
    "\n",
    "#Reading microphone as source\n",
    "#Listening the speech and store in a variable\n",
    "\n",
    "with sr.Microphone(device_index=1) as source:\n",
    "    print(\"Please start to talk. \")\n",
    "    audio_text= r.listen(source)\n",
    "        \n",
    "    try:\n",
    "        #using google speech recognition\n",
    "        print(\"Text: \" + r.recognize_google(audio_text))\n",
    "        txt_eng=r.recognize_google(audio_text)\n",
    "    except:\n",
    "        print(\"Sorry, I did not get that.\")\n",
    "    \n",
    "    print(\"Time is up! Thanks\")\n",
    "    "
   ]
  },
  {
   "cell_type": "code",
   "execution_count": 9,
   "id": "b06055f6",
   "metadata": {},
   "outputs": [],
   "source": [
    "translator = Translator()\n",
    "#print(googletrans.LANGUAGES)"
   ]
  },
  {
   "cell_type": "code",
   "execution_count": 10,
   "id": "2d1f980b",
   "metadata": {},
   "outputs": [
    {
     "name": "stdout",
     "output_type": "stream",
     "text": [
      "Detected(lang=en, confidence=None)\n"
     ]
    }
   ],
   "source": [
    "print(translator.detect(txt_eng))"
   ]
  },
  {
   "cell_type": "code",
   "execution_count": 11,
   "id": "12284120",
   "metadata": {},
   "outputs": [
    {
     "name": "stdout",
     "output_type": "stream",
     "text": [
      "यह मेरे लिए एक बुरा दिन है\n"
     ]
    }
   ],
   "source": [
    "#Translate the text received into different language\n",
    "translated = translator.translate(txt_eng, src='en', dest='hi')\n",
    "print(translated.text)"
   ]
  },
  {
   "cell_type": "code",
   "execution_count": 12,
   "id": "58dce047",
   "metadata": {},
   "outputs": [
    {
     "name": "stdout",
     "output_type": "stream",
     "text": [
      "Please start to talk. \n",
      "Text: बहुत सुंदर\n",
      "Time is up! Thanks\n"
     ]
    }
   ],
   "source": [
    "#Intial recognizer class for recognizing the speech\n",
    "r= sr.Recognizer()\n",
    "\n",
    "#Reading microphone as source\n",
    "#Listening the speech and store in a variable\n",
    "\n",
    "with sr.Microphone(device_index=1) as source:\n",
    "    print(\"Please start to talk. \")\n",
    "    audio_text= r.listen(source)\n",
    "        \n",
    "    try:\n",
    "        #using google speech recognition\n",
    "        print(\"Text: \" + r.recognize_google(audio_text,language=\"hi-IN\"))\n",
    "        txt=r.recognize_google(audio_text)\n",
    "    except:\n",
    "        print(\"Sorry, I did not get that.\")\n",
    "    \n",
    "    print(\"Time is up! Thanks\")"
   ]
  },
  {
   "cell_type": "code",
   "execution_count": 13,
   "id": "7b31a9f7",
   "metadata": {},
   "outputs": [
    {
     "name": "stdout",
     "output_type": "stream",
     "text": [
      "Watson\n"
     ]
    }
   ],
   "source": [
    "translated = translator.translate(txt, src='hi', dest='en')\n",
    "print(translated.text)"
   ]
  },
  {
   "cell_type": "markdown",
   "id": "c3149a5f",
   "metadata": {},
   "source": [
    "## Sentimental analysis of the captured sentence"
   ]
  },
  {
   "cell_type": "code",
   "execution_count": 14,
   "id": "3094ebe4",
   "metadata": {},
   "outputs": [],
   "source": [
    "res=TextBlob(txt_eng)"
   ]
  },
  {
   "cell_type": "code",
   "execution_count": 15,
   "id": "cb57d828",
   "metadata": {},
   "outputs": [],
   "source": [
    "txt_polarity=res.sentiment.polarity\n"
   ]
  },
  {
   "cell_type": "code",
   "execution_count": 16,
   "id": "47f0e137",
   "metadata": {},
   "outputs": [],
   "source": [
    "def check_polarity(polarity):\n",
    "    if polarity>0:\n",
    "        result = \"It is a positive sentense\"\n",
    "    elif polarity<0:\n",
    "        result =\"It is a negative sentence\"\n",
    "    else:\n",
    "        result =\"It is a neutral sentence\"\n",
    "    return result"
   ]
  },
  {
   "cell_type": "code",
   "execution_count": 17,
   "id": "4ae7e89f",
   "metadata": {},
   "outputs": [
    {
     "data": {
      "text/plain": [
       "'It is a negative sentence'"
      ]
     },
     "execution_count": 17,
     "metadata": {},
     "output_type": "execute_result"
    }
   ],
   "source": [
    "final_result=check_polarity(txt_polarity)\n",
    "final_result\n"
   ]
  },
  {
   "cell_type": "code",
   "execution_count": 19,
   "id": "9b0cefc0",
   "metadata": {},
   "outputs": [],
   "source": [
    "myobj = gTTS(text=final_result, lang='en', slow=False)\n",
    "myobj.save(\"welcome.mp3\")\n",
    "playsound.playsound('welcome.mp3')"
   ]
  },
  {
   "cell_type": "code",
   "execution_count": null,
   "id": "5b8f4937",
   "metadata": {},
   "outputs": [],
   "source": []
  },
  {
   "cell_type": "code",
   "execution_count": null,
   "id": "5b5cbb91",
   "metadata": {},
   "outputs": [],
   "source": []
  }
 ],
 "metadata": {
  "kernelspec": {
   "display_name": "Python 3",
   "language": "python",
   "name": "python3"
  },
  "language_info": {
   "codemirror_mode": {
    "name": "ipython",
    "version": 3
   },
   "file_extension": ".py",
   "mimetype": "text/x-python",
   "name": "python",
   "nbconvert_exporter": "python",
   "pygments_lexer": "ipython3",
   "version": "3.8.8"
  }
 },
 "nbformat": 4,
 "nbformat_minor": 5
}
