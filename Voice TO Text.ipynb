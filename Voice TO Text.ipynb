{
 "cells": [
  {
   "cell_type": "markdown",
   "id": "5912a8c5",
   "metadata": {},
   "source": [
    "Voice To Text"
   ]
  },
  {
   "cell_type": "code",
   "execution_count": null,
   "id": "ad317449",
   "metadata": {},
   "outputs": [],
   "source": [
    "#Import Library\n",
    "#!pip install pipwin"
   ]
  },
  {
   "cell_type": "code",
   "execution_count": 1,
   "id": "b994f19a",
   "metadata": {},
   "outputs": [],
   "source": [
    "import speech_recognition as sr"
   ]
  },
  {
   "cell_type": "code",
   "execution_count": 2,
   "id": "a6f5222c",
   "metadata": {},
   "outputs": [
    {
     "name": "stdout",
     "output_type": "stream",
     "text": [
      "Microphone with name \"Microsoft Sound Mapper - Input\" found for `Microphone(device_index=0)`\n",
      "Microphone with name \"Headset (ZEB-THUNDER Hands-Free\" found for `Microphone(device_index=1)`\n",
      "Microphone with name \"Microphone Array (Intel® Smart \" found for `Microphone(device_index=2)`\n",
      "Microphone with name \"Microsoft Sound Mapper - Output\" found for `Microphone(device_index=3)`\n",
      "Microphone with name \"Speaker / Headphone (Realtek(R)\" found for `Microphone(device_index=4)`\n",
      "Microphone with name \"Headset (ZEB-THUNDER Hands-Free\" found for `Microphone(device_index=5)`\n",
      "Microphone with name \"Headphones (ZEB-THUNDER Stereo)\" found for `Microphone(device_index=6)`\n",
      "Microphone with name \"Primary Sound Capture Driver\" found for `Microphone(device_index=7)`\n",
      "Microphone with name \"Headset (ZEB-THUNDER Hands-Free AG Audio)\" found for `Microphone(device_index=8)`\n",
      "Microphone with name \"Microphone Array (Intel® Smart Sound Technology for Digital Microphones)\" found for `Microphone(device_index=9)`\n",
      "Microphone with name \"Primary Sound Driver\" found for `Microphone(device_index=10)`\n",
      "Microphone with name \"Speaker / Headphone (Realtek(R) Audio)\" found for `Microphone(device_index=11)`\n",
      "Microphone with name \"Headset (ZEB-THUNDER Hands-Free AG Audio)\" found for `Microphone(device_index=12)`\n",
      "Microphone with name \"Headphones (ZEB-THUNDER Stereo)\" found for `Microphone(device_index=13)`\n",
      "Microphone with name \"Headset (ZEB-THUNDER Hands-Free AG Audio)\" found for `Microphone(device_index=14)`\n",
      "Microphone with name \"Speaker / Headphone (Realtek(R) Audio)\" found for `Microphone(device_index=15)`\n",
      "Microphone with name \"Headphones (ZEB-THUNDER Stereo)\" found for `Microphone(device_index=16)`\n",
      "Microphone with name \"Headset (ZEB-THUNDER Hands-Free AG Audio)\" found for `Microphone(device_index=17)`\n",
      "Microphone with name \"Microphone Array (Intel® Smart Sound Technology for Digital Microphones)\" found for `Microphone(device_index=18)`\n",
      "Microphone with name \"Headset 1 (@System32\\drivers\\bthhfenum.sys,#2;%1 Hands-Free AG Audio%0\r\n",
      ";(ZEB-THUNDER))\" found for `Microphone(device_index=19)`\n",
      "Microphone with name \"Headset 2 (@System32\\drivers\\bthhfenum.sys,#2;%1 Hands-Free AG Audio%0\r\n",
      ";(ZEB-THUNDER))\" found for `Microphone(device_index=20)`\n",
      "Microphone with name \"Output (@System32\\drivers\\bthhfenum.sys,#2;%1 Hands-Free AG Audio%0\r\n",
      ";(ZEB-THUNDER))\" found for `Microphone(device_index=21)`\n",
      "Microphone with name \"Microphone (Realtek HD Audio Mic input)\" found for `Microphone(device_index=22)`\n",
      "Microphone with name \"Stereo Mix (Realtek HD Audio Stereo input)\" found for `Microphone(device_index=23)`\n",
      "Microphone with name \"Speakers 1 (Realtek HD Audio output with SST)\" found for `Microphone(device_index=24)`\n",
      "Microphone with name \"Speakers 2 (Realtek HD Audio output with SST)\" found for `Microphone(device_index=25)`\n",
      "Microphone with name \"PC Speaker (Realtek HD Audio output with SST)\" found for `Microphone(device_index=26)`\n",
      "Microphone with name \"Microphone Array 1 (Intel® Smart Sound Technology DMIC Microphone)\" found for `Microphone(device_index=27)`\n",
      "Microphone with name \"Microphone Array 2 (Intel® Smart Sound Technology DMIC Microphone)\" found for `Microphone(device_index=28)`\n",
      "Microphone with name \"Headphones ()\" found for `Microphone(device_index=29)`\n",
      "Microphone with name \"Headphones ()\" found for `Microphone(device_index=30)`\n"
     ]
    }
   ],
   "source": [
    "#for index, name in enumerate(sr.Microphone.list_microphone_names()):\n",
    "    #print(\"Microphone with name \\\"{1}\\\" found for `Microphone(device_index={0})`\".format(index, name))"
   ]
  },
  {
   "cell_type": "code",
   "execution_count": 5,
   "id": "66a7a9aa",
   "metadata": {},
   "outputs": [
    {
     "name": "stdout",
     "output_type": "stream",
     "text": [
      "Please start to talk. \n",
      "Text: hello how are you\n",
      "Time is up! Thanks\n"
     ]
    }
   ],
   "source": [
    "#Intial recognizer class for recognizing the speech\n",
    "r= sr.Recognizer()\n",
    "\n",
    "#Reading microphone as source\n",
    "#Listening the speech and store in a variable\n",
    "\n",
    "with sr.Microphone(device_index=1) as source:\n",
    "    print(\"Please start to talk. \")\n",
    "    audio_text= r.listen(source)\n",
    "        \n",
    "    try:\n",
    "        #using google speech recognition\n",
    "        print(\"Text: \" + r.recognize_google(audio_text))\n",
    "        txt=r.recognize_google(audio_text)\n",
    "    except:\n",
    "        print(\"Sorry, I did not get that.\")\n",
    "    \n",
    "    print(\"Time is up! Thanks\")\n",
    "    "
   ]
  },
  {
   "cell_type": "code",
   "execution_count": null,
   "id": "6bde99ce",
   "metadata": {},
   "outputs": [],
   "source": [
    "#pip install googletrans==4.0.0-rc1"
   ]
  },
  {
   "cell_type": "code",
   "execution_count": 6,
   "id": "5e3b8f8e",
   "metadata": {},
   "outputs": [],
   "source": [
    "from googletrans import Translator\n",
    "import googletrans"
   ]
  },
  {
   "cell_type": "code",
   "execution_count": 12,
   "id": "b06055f6",
   "metadata": {},
   "outputs": [],
   "source": [
    "translator = Translator()\n",
    "#print(googletrans.LANGUAGES)"
   ]
  },
  {
   "cell_type": "code",
   "execution_count": 15,
   "id": "2d1f980b",
   "metadata": {},
   "outputs": [
    {
     "name": "stdout",
     "output_type": "stream",
     "text": [
      "Detected(lang=en, confidence=None)\n"
     ]
    }
   ],
   "source": [
    "print(translator.detect(txt))"
   ]
  },
  {
   "cell_type": "code",
   "execution_count": 16,
   "id": "12284120",
   "metadata": {},
   "outputs": [
    {
     "name": "stdout",
     "output_type": "stream",
     "text": [
      "नमस्ते आप कैसे हैं\n"
     ]
    }
   ],
   "source": [
    "#Translate the text received into different language\n",
    "translated = translator.translate(txt, src='en', dest='hi')\n",
    "print(translated.text)"
   ]
  },
  {
   "cell_type": "code",
   "execution_count": 27,
   "id": "58dce047",
   "metadata": {},
   "outputs": [
    {
     "name": "stdout",
     "output_type": "stream",
     "text": [
      "Please start to talk. \n",
      "Sorry, I did not get that.\n",
      "Time is up! Thanks\n"
     ]
    }
   ],
   "source": [
    "#Intial recognizer class for recognizing the speech\n",
    "r= sr.Recognizer()\n",
    "\n",
    "#Reading microphone as source\n",
    "#Listening the speech and store in a variable\n",
    "\n",
    "with sr.Microphone(device_index=1) as source:\n",
    "    print(\"Please start to talk. \")\n",
    "    audio_text= r.listen(source)\n",
    "        \n",
    "    try:\n",
    "        #using google speech recognition\n",
    "        print(\"Text: \" + r.recognize_google(audio_text,language=\"hi-IN\"))\n",
    "        txt=r.recognize_google(audio_text)\n",
    "    except:\n",
    "        print(\"Sorry, I did not get that.\")\n",
    "    \n",
    "    print(\"Time is up! Thanks\")"
   ]
  },
  {
   "cell_type": "code",
   "execution_count": null,
   "id": "7b31a9f7",
   "metadata": {},
   "outputs": [],
   "source": [
    "translated = translator.translate(txt, src='hi', dest='en')\n",
    "print(translated.text)"
   ]
  },
  {
   "cell_type": "code",
   "execution_count": null,
   "id": "e4c62147",
   "metadata": {},
   "outputs": [],
   "source": []
  },
  {
   "cell_type": "code",
   "execution_count": null,
   "id": "a414ea89",
   "metadata": {},
   "outputs": [],
   "source": []
  }
 ],
 "metadata": {
  "kernelspec": {
   "display_name": "Python 3",
   "language": "python",
   "name": "python3"
  },
  "language_info": {
   "codemirror_mode": {
    "name": "ipython",
    "version": 3
   },
   "file_extension": ".py",
   "mimetype": "text/x-python",
   "name": "python",
   "nbconvert_exporter": "python",
   "pygments_lexer": "ipython3",
   "version": "3.8.8"
  }
 },
 "nbformat": 4,
 "nbformat_minor": 5
}
